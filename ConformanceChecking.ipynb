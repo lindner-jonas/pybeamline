{
 "cells": [
  {
   "cell_type": "code",
   "execution_count": null,
   "metadata": {},
   "outputs": [
    {
     "name": "stderr",
     "output_type": "stream",
     "text": [
      "c:\\Users\\Erik\\AppData\\Local\\Programs\\Python\\Python312\\Lib\\site-packages\\tqdm\\auto.py:21: TqdmWarning: IProgress not found. Please update jupyter and ipywidgets. See https://ipywidgets.readthedocs.io/en/stable/user_install.html\n",
      "  from .autonotebook import tqdm as notebook_tqdm\n",
      "parsing log, completed traces :: 100%|██████████| 1000/1000 [00:00<00:00, 7929.28it/s]\n"
     ]
    },
    {
     "name": "stdout",
     "output_type": "stream",
     "text": [
      "violating = 276\n",
      "fulfilling = 6659\n"
     ]
    }
   ],
   "source": [
    "from pybeamline.algorithms.conformance.MultiperspectiveConformance.multiperspective_conformance import getLogFromFile, runPybeamlineModel\n",
    "from pybeamline.algorithms.conformance.MultiperspectiveConformance.MP_Declare_Model import MP_declare_model\n",
    "\n",
    "model = MP_declare_model.from_xml(\"pybeamline/algorithms/conformance/MultiperspectiveConformance/tests/models/model-from-bridge.xml\")\n",
    "log = getLogFromFile(\"pybeamline/algorithms/conformance/MultiperspectiveConformance/tests/logs/log_from_bridge/extension-log-noisy-4.xes\")\n",
    "    \n",
    "viol, fulfill, violcount, fulfillcount = runPybeamlineModel(log, model)\n",
    "\n",
    "print(\"Fulfilling traces:\")\n",
    "print(fulfill)\n",
    "print(\"Violation traces:\")\n",
    "print(viol)"
   ]
  }
 ],
 "metadata": {
  "kernelspec": {
   "display_name": "Python 3",
   "language": "python",
   "name": "python3"
  },
  "language_info": {
   "codemirror_mode": {
    "name": "ipython",
    "version": 3
   },
   "file_extension": ".py",
   "mimetype": "text/x-python",
   "name": "python",
   "nbconvert_exporter": "python",
   "pygments_lexer": "ipython3",
   "version": "3.12.6"
  }
 },
 "nbformat": 4,
 "nbformat_minor": 2
}
